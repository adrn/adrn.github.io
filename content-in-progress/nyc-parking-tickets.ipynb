{
 "cells": [
  {
   "cell_type": "code",
   "execution_count": null,
   "metadata": {
    "collapsed": true
   },
   "outputs": [],
   "source": [
    "import numpy as np\n",
    "import matplotlib.pyplot as pl\n",
    "%matplotlib inline\n",
    "import pandas as pd"
   ]
  },
  {
   "cell_type": "markdown",
   "metadata": {},
   "source": [
    "This blog post is dedicated to my mom, who insists that my dad's red Mazda 3s with Connecticut license plate attracts more tickets and police interest than the typical car. Let's see if the data support that...\n",
    "\n",
    "I've started by downloading a JSON file containing all [NYC parking violations from FY2014](https://data.cityofnewyork.us/City-Government/Parking-Violations-Issued-Fiscal-Year-2014-August-/jt7v-77mi) (safe to click -- won't trigger a download). I have to give a shout-out to the [NYC OpenData](https://data.cityofnewyork.us) initiative and website, because it is awesome! Unfortunately, this dataset has some bugs on the OpenData site...but [@tswanson](https://github.com/tswanson/) has provided a cleaned, geocoded version of the data linked [here](https://github.com/tswanson/NYCParkingGeocode). This contains a subset of the data (from July to October), but there are still >2 million rows, so there may be something interesting in there."
   ]
  },
  {
   "cell_type": "code",
   "execution_count": null,
   "metadata": {
    "collapsed": false
   },
   "outputs": [],
   "source": [
    "parking = pd.read_csv(\"/Users/adrian/Downloads/parkinggeocoded.csv\")"
   ]
  },
  {
   "cell_type": "code",
   "execution_count": null,
   "metadata": {
    "collapsed": false
   },
   "outputs": [],
   "source": [
    "parking.columns"
   ]
  },
  {
   "cell_type": "code",
   "execution_count": null,
   "metadata": {
    "collapsed": false
   },
   "outputs": [],
   "source": [
    "vehicle_colors = parking.VehicleColor.unique()\n",
    "vehicle_colors = vehicle_colors.astype(str).tolist()"
   ]
  },
  {
   "cell_type": "code",
   "execution_count": null,
   "metadata": {
    "collapsed": false
   },
   "outputs": [],
   "source": [
    "red_colors = [col.lower() for col in vehicle_colors if 'red' in col.lower() or 'rd' in col.lower()]"
   ]
  },
  {
   "cell_type": "code",
   "execution_count": null,
   "metadata": {
    "collapsed": true
   },
   "outputs": [],
   "source": []
  }
 ],
 "metadata": {
  "kernelspec": {
   "display_name": "Python 2",
   "language": "python",
   "name": "python2"
  },
  "language_info": {
   "codemirror_mode": {
    "name": "ipython",
    "version": 2
   },
   "file_extension": ".py",
   "mimetype": "text/x-python",
   "name": "python",
   "nbconvert_exporter": "python",
   "pygments_lexer": "ipython2",
   "version": "2.7.10"
  }
 },
 "nbformat": 4,
 "nbformat_minor": 0
}