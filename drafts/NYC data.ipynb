{
 "cells": [
  {
   "cell_type": "markdown",
   "metadata": {},
   "source": [
    "Another idea: motor vehicle collisions -- more likely on rainy, snowy, cold days?"
   ]
  },
  {
   "cell_type": "code",
   "execution_count": 1,
   "metadata": {
    "collapsed": true
   },
   "outputs": [],
   "source": [
    "import numpy as np\n",
    "import matplotlib.pyplot as pl\n",
    "%matplotlib inline\n",
    "import pandas as pd"
   ]
  },
  {
   "cell_type": "markdown",
   "metadata": {},
   "source": [
    "This blog post is dedicated to my mom, who insists that my dad's red Mazda 3s with Connecticut license plate attracts more tickets and police interest than the typical car. Let's see if the data support that...\n",
    "\n",
    "I've started by downloading a JSON file containing all [NYC parking violations from FY2014](https://data.cityofnewyork.us/City-Government/Parking-Violations-Issued-Fiscal-Year-2014-August-/jt7v-77mi) (safe to click -- won't trigger a download). I have to give a shout-out to the [NYC OpenData](https://data.cityofnewyork.us) initiative and website, because it is awesome! Unfortunately, this dataset has some bugs on the OpenData site...but [@tswanson](https://github.com/tswanson/) has provided a cleaned, geocoded version of the data linked [here](https://github.com/tswanson/NYCParkingGeocode). This contains a subset of the data (from July to October), but there are still >2 million rows, so there may be something interesting in there."
   ]
  },
  {
   "cell_type": "code",
   "execution_count": 5,
   "metadata": {
    "collapsed": false
   },
   "outputs": [],
   "source": [
    "# parking = pd.read_csv(\"/Users/adrian/Downloads/parkinggeocoded.csv\")\n",
    "data = pd.read_csv(\"/Users/adrian/Downloads/Parking_Violations_Issued_-_Fiscal_Year_2015.csv\")"
   ]
  },
  {
   "cell_type": "code",
   "execution_count": 17,
   "metadata": {
    "collapsed": false
   },
   "outputs": [],
   "source": [
    "dt = pd.to_datetime(data['Issue Date'])"
   ]
  },
  {
   "cell_type": "code",
   "execution_count": 23,
   "metadata": {
    "collapsed": false
   },
   "outputs": [
    {
     "data": {
      "text/plain": [
       "(array([ 2295.,  1080.,  1692.,  1918.,  2602.,  3291.,  1926.,  1379.,\n",
       "         2380.,  2001.,  2939.]),\n",
       " array([ 1,  2,  3,  4,  5,  6,  7,  8,  9, 10, 11, 12]),\n",
       " <a list of 11 Patch objects>)"
      ]
     },
     "execution_count": 23,
     "metadata": {},
     "output_type": "execute_result"
    },
    {
     "data": {
      "image/png": "[encoded data removed]",
      "text/plain": [
       "<matplotlib.figure.Figure at 0x10bf5c550>"
      ]
     },
     "metadata": {
      "image/png": {
       "height": 265,
       "width": 398
      }
     },
     "output_type": "display_data"
    }
   ],
   "source": [
    "pl.hist(dt.dt.month,bins=np.arange(dt.dt.month.min(),dt.dt.month.max()+1,1))"
   ]
  },
  {
   "cell_type": "code",
   "execution_count": 3,
   "metadata": {
    "collapsed": false
   },
   "outputs": [
    {
     "data": {
      "text/plain": [
       "Index(['SummonsNumber', 'PlateID', 'RegistrationState', 'PlateType',\n",
       "       'IssueDate', 'ViolationCode', 'VehicleBodyType', 'VehicleMake',\n",
       "       'IssuingAgency', 'StreetCode1', 'StreetCode2', 'StreetCode3',\n",
       "       'VehicleExpirationDate', 'ViolationLocation', 'ViolationPrecinct',\n",
       "       'IssuerPrecinct', 'IssuerCode', 'IssuerCommand', 'IssuerSquad',\n",
       "       'ViolationTime', 'TimeFirstObserved', 'ViolationCounty',\n",
       "       'ViolationInFrontOfOrOpposite', 'HouseNumber', 'StreetName',\n",
       "       'IntersectingStreet', 'DateFirstObserved', 'LawSection', 'SubDivision',\n",
       "       'ViolationLegalCode', 'DaysParkingInEffect', 'FromHoursInEffect',\n",
       "       'ToHoursInEffect', 'VehicleColor', 'UnregisteredVehicle', 'VehicleYear',\n",
       "       'MeterNumber', 'FeetFromCurb', 'ViolationPostCode',\n",
       "       'ViolationDescription', 'NoStandingorStoppingViolation',\n",
       "       'HydrantViolation', 'DoubleParkingViolation', 'precinct', 'gsRetCode',\n",
       "       'latitude', 'longitude', 'message', 'onstreet', 'fromstreet',\n",
       "       'tostreet', 'issuedatetime', 'month', 'yr', 'dow', 'dayofmonth', 'hr'],\n",
       "      dtype='object')"
      ]
     },
     "execution_count": 3,
     "metadata": {},
     "output_type": "execute_result"
    }
   ],
   "source": [
    "parking.columns"
   ]
  },
  {
   "cell_type": "code",
   "execution_count": 18,
   "metadata": {
    "collapsed": false
   },
   "outputs": [],
   "source": [
    "vehicle_colors = parking.VehicleColor.unique()\n",
    "vehicle_colors = vehicle_colors.astype(str).tolist()"
   ]
  },
  {
   "cell_type": "code",
   "execution_count": 22,
   "metadata": {
    "collapsed": false
   },
   "outputs": [
    {
     "data": {
      "text/plain": [
       "['red',\n",
       " 'rd',\n",
       " 'rdw',\n",
       " 'rd/',\n",
       " 'rdg',\n",
       " 'rdb',\n",
       " 'wh/rd',\n",
       " 'red/w',\n",
       " 'ford',\n",
       " 'red &',\n",
       " 'dkrd',\n",
       " 'rdt',\n",
       " 'rdyl',\n",
       " 'rd/yl',\n",
       " 'or/rd',\n",
       " 'brd',\n",
       " 'rd/bk',\n",
       " 'w/red',\n",
       " 'tn/rd',\n",
       " 'bk/rd',\n",
       " 'rdy',\n",
       " 'rd/wh',\n",
       " 'rdwhi',\n",
       " 'redc',\n",
       " 'rd wt',\n",
       " 'rd wh',\n",
       " 'whtrd',\n",
       " 'grd',\n",
       " 'redye',\n",
       " 'burd',\n",
       " 'rd ye',\n",
       " 'redbl',\n",
       " 'redwh',\n",
       " 'redd',\n",
       " 'red/b',\n",
       " 'rdm',\n",
       " 'dk rd',\n",
       " 'brdg',\n",
       " 'rdo',\n",
       " 'rede',\n",
       " 'wt/rd',\n",
       " 'gr/rd',\n",
       " 'red/s',\n",
       " 'yl rd']"
      ]
     },
     "execution_count": 22,
     "metadata": {},
     "output_type": "execute_result"
    }
   ],
   "source": [
    "red_colors = [col.lower() for col in vehicle_colors if 'red' in col.lower() or 'rd' in col.lower()]"
   ]
  },
  {
   "cell_type": "code",
   "execution_count": null,
   "metadata": {
    "collapsed": true
   },
   "outputs": [],
   "source": []
  }
 ],
 "metadata": {
  "kernelspec": {
   "display_name": "Python 3",
   "language": "python",
   "name": "python3"
  },
  "language_info": {
   "codemirror_mode": {
    "name": "ipython",
    "version": 3
   },
   "file_extension": ".py",
   "mimetype": "text/x-python",
   "name": "python",
   "nbconvert_exporter": "python",
   "pygments_lexer": "ipython3",
   "version": "3.5.1"
  }
 },
 "nbformat": 4,
 "nbformat_minor": 0
}
