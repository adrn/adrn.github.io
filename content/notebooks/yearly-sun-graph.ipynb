{
 "cells": [
  {
   "cell_type": "code",
   "execution_count": null,
   "metadata": {
    "collapsed": false
   },
   "outputs": [],
   "source": [
    "from datetime import datetime\n",
    "\n",
    "# Third-party\n",
    "import astropy.coordinates as coord\n",
    "import astropy.units as u\n",
    "import astropy.time as t\n",
    "import matplotlib as mpl\n",
    "import matplotlib.pyplot as pl\n",
    "import matplotlib.dates as mdates\n",
    "import numpy as np\n",
    "pl.style.use('apw-notebook')\n",
    "%matplotlib inline\n",
    "import pytz"
   ]
  },
  {
   "cell_type": "markdown",
   "metadata": {},
   "source": [
    "This code relies on a [brand new feature](https://github.com/astropy/astropy/pull/5154) of the\n",
    "development version of Astropy that uses the Google maps API to allow you to get an\n",
    "[EarthLocation](http://docs.astropy.org/en/latest/api/astropy.coordinates.EarthLocation.html)\n",
    "object given any arbitrary address. For example, a fully-specified street address:"
   ]
  },
  {
   "cell_type": "code",
   "execution_count": null,
   "metadata": {
    "collapsed": false
   },
   "outputs": [],
   "source": [
    "loc = coord.EarthLocation.of_address('1002 Holy Grail Court, St. Louis, MO')\n",
    "loc.longitude, loc.latitude"
   ]
  },
  {
   "cell_type": "markdown",
   "metadata": {},
   "source": [
    "A city name:"
   ]
  },
  {
   "cell_type": "code",
   "execution_count": null,
   "metadata": {
    "collapsed": false
   },
   "outputs": [],
   "source": [
    "loc = coord.EarthLocation.of_address('Parrot, ME')\n",
    "loc.longitude, loc.latitude"
   ]
  },
  {
   "cell_type": "markdown",
   "metadata": {},
   "source": [
    "Or even a point of interest:"
   ]
  },
  {
   "cell_type": "code",
   "execution_count": null,
   "metadata": {
    "collapsed": false
   },
   "outputs": [],
   "source": [
    "loc = coord.EarthLocation.of_address('Camelot Castle Hotel, Tintagel, UK') # it's only a model\n",
    "loc.longitude, loc.latitude"
   ]
  },
  {
   "cell_type": "markdown",
   "metadata": {},
   "source": [
    "We'll use this feature to get an `EarthLocation` (e.g., latitude and longitude) for any city we'd like to make a sun graph for."
   ]
  },
  {
   "cell_type": "markdown",
   "metadata": {},
   "source": [
    "Next we define some more objects to define the various types of twilight. The first dictionary contains the sun altitude specifications for civil, nautical, and astronomical twilight (the range or minimum to maximum sun altitude for each). The next dictionary maps the names of the various stages of sunlight to integers that are ranked with the brightness. This will be used in plotting later on. "
   ]
  },
  {
   "cell_type": "code",
   "execution_count": null,
   "metadata": {
    "collapsed": false
   },
   "outputs": [],
   "source": [
    "_twil = {\n",
    "    'civil': [-6., 0]*u.degree,\n",
    "    'nautical': [-12.,-6]*u.degree,\n",
    "    'astronomical': [-18., -12]*u.degree\n",
    "}\n",
    "\n",
    "_twil_name_map = {\n",
    "    'day': 0,\n",
    "    'civil': 1,\n",
    "    'nautical': 2,\n",
    "    'astronomical': 3,\n",
    "    'night': 4\n",
    "}"
   ]
  },
  {
   "cell_type": "markdown",
   "metadata": {},
   "source": [
    "Now we can write a function to make a sun plot for a given location! At minimum, the function will need to accept an `EarthLocation`, which contains the latitude/longitude information, and a `pytz` timezone information object. We'll write the function so that, by default, it produces a plot for the entire current year by computing the solar properties for every day. But, we should let the user have some control over this -- for example, if we want lower resolution over only three months of the year starting from May 15, it should be possible to specify a custom grid of days and a start date. The full function is somewhat long, so I will break it up into chunks and explain through each chunk in succession. Skip down to [the full function cell](#full-plot-function) to see the whole thing."
   ]
  },
  {
   "cell_type": "markdown",
   "metadata": {},
   "source": [
    "The first few lines of the plot function look at the inputs that specify the date grid over which we will compute the solar properties. The two relevant arguments are `start` and `day_grid`, and the possible combinations and specifications are:\n",
    "* `start` is not specified and `day_grid` is not specified: this is the default and will produce a plot with solar properties for every day in a full year starting on January 1 of the current year.\n",
    "* `start` is specified and `day_grid` is specified: if both are specified, we simply need to add the grid of days to the input start `astropy.time.Time` object.\n",
    "* `start` is specified and `day_grid` is not specified: if the start datetime is specified but the grid of days isn't, it uses a grid of 1 year with a spacing of 1 day.\n",
    "* `start` is not specified but `day_grid` is specified: assumes the start is January 1 of the current year."
   ]
  },
  {
   "cell_type": "code",
   "execution_count": null,
   "metadata": {
    "collapsed": true
   },
   "outputs": [],
   "source": [
    "def sun_info_plot1(earth_location, tz, start=None, day_grid=None, \n",
    "                   n_hour_grid=512, fig=None):\n",
    "    \n",
    "    if start is None and day_grid is None: # default\n",
    "        year = datetime.now().year\n",
    "        start = t.Time('{}-01-01'.format(year), format='iso', scale='utc')\n",
    "        day_grid = start + np.arange(0,365+1).astype(int) * u.day\n",
    "        \n",
    "    elif start is not None and day_grid is not None:\n",
    "        day_grid = start + day_grid\n",
    "    \n",
    "    elif start is not None and day_grid is None:\n",
    "        day_grid = start + np.arange(0,365+1).astype(int) * u.day\n",
    "    \n",
    "    elif start is None and day_grid is not None:\n",
    "        year = datetime.now().year\n",
    "        start = t.Time('{}-01-01'.format(year), format='iso', scale='utc')\n",
    "        day_grid = start + day_grid        \n",
    "    \n",
    "    else: # should never reach here\n",
    "        raise ValueError(\"How did I get here?\")\n",
    "        \n",
    "    # ..."
   ]
  },
  {
   "cell_type": "markdown",
   "metadata": {},
   "source": [
    "Now we will loop through the days for which we will compute the solar properties, convert the local times to UTC, get the sun's position throughout the day and use our definitions of twilight to figure out at what times the conditions are met. We start by defining a 2D array: the 0th axis represents the grid of days throughout the year, and the 1st axis represents a grid of hours throughout each day when we will compute the solar properties. \n",
    "\n",
    "We now loop over each day in the year. For each day, we generate a grid of hours and convert these local times to UTC times. We then use [`astropy.coordinates.get_sun`](http://docs.astropy.org/en/latest/api/astropy.coordinates.get_sun.html#astropy.coordinates.get_sun) to get the position of the sun at each of these times, and transform these positions to the Altitude-Azimuth system using the input location on the Earth. Solar noon and midnight are computed as extrema of the altitude. For each type of twilight, we record the times at which the twilight constraints (defined above) are met by storing an integer in the 2D array `twil_grid` (0 corresponding to daytime, 1 for civil twilight, 2 for nautical twilight, etc. as defined above). Finally, when the sun is below -18\u00ba, we set it to night time."
   ]
  },
  {
   "cell_type": "code",
   "execution_count": null,
   "metadata": {
    "collapsed": true
   },
   "outputs": [],
   "source": [
    "def sun_info_plot2(earth_location, tz, start=None, day_grid=None, \n",
    "                   n_hour_grid=512, fig=None):\n",
    "    \n",
    "    # ... previous code ...\n",
    "\n",
    "    twil_grid = np.zeros((len(day_grid), n_hour_grid), dtype=int)\n",
    "    _solar_noon = []\n",
    "    _solar_midnight = []\n",
    "\n",
    "    for i,day in enumerate(day_grid):\n",
    "        utc_offset = tz.utcoffset(day.datetime).total_seconds()*u.second\n",
    "        hour_grid_loc = day + np.linspace(0, 24-1E-7, n_hour_grid)*u.hour - utc_offset\n",
    "        loc_hr = [d.hour + d.minute/60. + d.second/3600. \n",
    "                  for d in (hour_grid_loc + utc_offset).datetime]*u.hour\n",
    "\n",
    "        # get position of the Sun at all times during this day\n",
    "        sun = coord.get_sun(hour_grid_loc)\n",
    "        sun_altaz = sun.transform_to(coord.AltAz(location=loc))\n",
    "\n",
    "        # solar noon and midnight\n",
    "        _solar_noon.append(loc_hr[sun_altaz.alt.argmax()]) # Sun at max altitude\n",
    "        _solar_midnight.append(loc_hr[sun_altaz.alt.argmin()]) # Sun at min altitude\n",
    "\n",
    "        # civil, nautical, astronomical twilights\n",
    "        for key in _twil.keys():\n",
    "            idx = (sun_altaz.alt >= _twil[key][0]) & (sun_altaz.alt < _twil[key][1])\n",
    "            twil_grid[i,idx] = _twil_name_map[key]\n",
    "\n",
    "        idx = (sun_altaz.alt < _twil['astronomical'][0])\n",
    "        twil_grid[i,idx] = _twil_name_map['night']\n",
    "    \n",
    "    # convert lists of Quantity objects to Quantity arrays\n",
    "    solar_noon = u.Quantity(_solar_noon)\n",
    "    solar_midnight = u.Quantity(_solar_midnight)"
   ]
  },
  {
   "cell_type": "markdown",
   "metadata": {},
   "source": [
    "The final block of code actually generates the plot using `matplotlib`. This part is actually pretty easy because of how we set up the 2D array `twil_grid`. In anticipation of making the plot using [`matplotlib.pyplot.imshow`](http://matplotlib.org/api/pyplot_api.html#matplotlib.pyplot.imshow), we filled `twil_grid` so that the values at each position in the array represent the brightness using our map from twilight name to an integer value. `imshow` then uses a colormap to turn these different numbers into different colors. The rest of the code is just to fancify various aspects of the plot."
   ]
  },
  {
   "cell_type": "code",
   "execution_count": null,
   "metadata": {
    "collapsed": true
   },
   "outputs": [],
   "source": [
    "def sun_info_plot3(earth_location, tz, start=None, day_grid=None, \n",
    "                   n_hour_grid=512, fig=None):\n",
    "    \n",
    "    # ... previous code ...\n",
    "    \n",
    "    if fig is None:\n",
    "        fig,ax = pl.subplots(1,1,figsize=(15,8))\n",
    "    else:\n",
    "        ax = fig.axes[0]\n",
    "    \n",
    "    # matplotlib date trickery: see http://matplotlib.org/api/dates_api.html\n",
    "    xlim = mdates.date2num([day_grid.datetime.min(), day_grid.datetime.max()]).tolist()\n",
    "    ylim = [loc_hr.value.min(), loc_hr.value.max()]\n",
    "    \n",
    "    # use imshow to visualize the stages of daylight\n",
    "    ax.imshow(twil_grid.T, origin='bottom', aspect='auto', interpolation='nearest', \n",
    "              cmap='bone_r', extent=xlim+ylim)\n",
    "\n",
    "    # don't connect discontinuities with a line, which happen when solar midnight shifts from \n",
    "    # just before 00:00 to just after.\n",
    "    idx = np.where(np.abs(np.diff(solar_midnight.to(u.hour).value)) >= 5)[0]+1\n",
    "    solar_midnight = np.insert(solar_midnight, idx, np.nan)\n",
    "    x_midnight = np.insert(mdates.date2num(day_grid.datetime), idx, np.nan)\n",
    "\n",
    "    ax.plot(day_grid.datetime, solar_noon, color='#fecc5c', marker=None, linewidth=2)\n",
    "    ax.plot(x_midnight, solar_midnight, color='#2b83ba', marker=None, linewidth=2)\n",
    "\n",
    "    # assign date locator / formatter to the x-axis to get proper labels\n",
    "    months = mdates.MonthLocator()\n",
    "    \n",
    "    if day_grid[0].datetime.year == day_grid[-1].datetime.year:\n",
    "        date_fmt = mdates.DateFormatter('%b')\n",
    "        xlabel = \"{:d}\".format(day_grid[0].datetime.year)\n",
    "    else:\n",
    "        date_fmt = mdates.DateFormatter('%b-%Y')\n",
    "        xlabel = \"\"\n",
    "        \n",
    "    ax.xaxis.set_major_locator(months)\n",
    "    ax.xaxis.set_major_formatter(date_fmt)\n",
    "    ax.yaxis.set_ticks(np.arange(0,24+2,2))\n",
    "    ax.tick_params(axis='both', colors='#cccccc')\n",
    "    [lbl.set_color(\"k\") for lbl in ax.get_xticklabels() + ax.get_yticklabels()];\n",
    "\n",
    "    ax.set_ylim(-0.1,24.1)\n",
    "    ax.set_xlabel(xlabel)\n",
    "    \n",
    "    fig.tight_layout()"
   ]
  },
  {
   "cell_type": "markdown",
   "metadata": {},
   "source": [
    "<a name=\"full-plot-function\"></a>\n",
    "\n",
    "Finally, the function in its entirety:"
   ]
  },
  {
   "cell_type": "code",
   "execution_count": null,
   "metadata": {
    "collapsed": false
   },
   "outputs": [],
   "source": [
    "def sun_info_plot(earth_location, tz, start=None, day_grid=None, \n",
    "                  n_hour_grid=512, fig=None):\n",
    "    \"\"\" \n",
    "    Visualize how solar noon, solar midnight, and twilight (civil, \n",
    "    nautical, and astronomical) vary over a range of dates at a given \n",
    "    location.\n",
    "    \n",
    "    Parameters\n",
    "    ----------\n",
    "    earth_location : `~astropy.coordinates.EarthLocation`\n",
    "        The location to produce the info for (e.g., latitude, longitude) \n",
    "        as an Astropy `~astropy.coordinates.EarthLocation` object.\n",
    "    tz : `~pytz.tzinfo.BaseTzInfo`\n",
    "        The timezone of the location. \n",
    "    start : `~astropy.time.Time`, optional\n",
    "    day_grid : `~astropy.units.Quantity`, optional\n",
    "    n_hour_grid : int, optional\n",
    "    \n",
    "    Returns\n",
    "    -------\n",
    "    fig : `matplotlib.figure.Figure`\n",
    "    \"\"\"\n",
    "    \n",
    "    if start is None and day_grid is None: # default\n",
    "        year = datetime.now().year\n",
    "        start = t.Time('{}-01-01'.format(year), format='iso', scale='utc')\n",
    "        day_grid = start + np.arange(0,365+1).astype(int) * u.day\n",
    "        \n",
    "    elif start is not None and day_grid is not None:\n",
    "        day_grid = start + day_grid\n",
    "    \n",
    "    elif start is not None and day_grid is None:\n",
    "        day_grid = start + np.arange(0,365+1).astype(int) * u.day\n",
    "    \n",
    "    elif start is None and day_grid is not None:\n",
    "        year = datetime.now().year\n",
    "        start = t.Time('{}-01-01'.format(year), format='iso', scale='utc')\n",
    "        day_grid = start + day_grid        \n",
    "    \n",
    "    else: # should never reach here\n",
    "        raise ValueError(\"How did I get here?\")\n",
    "        \n",
    "    twil_grid = np.zeros((len(day_grid), n_hour_grid), dtype=int)\n",
    "    _solar_noon = []\n",
    "    _solar_midnight = []\n",
    "\n",
    "    for i,day in enumerate(day_grid):\n",
    "        utc_offset = tz.utcoffset(day.datetime).total_seconds()*u.second\n",
    "        hour_grid_loc = day + np.linspace(0, 24-1E-7, n_hour_grid)*u.hour - utc_offset\n",
    "        loc_hr = [d.hour + d.minute/60. + d.second/3600. \n",
    "                  for d in (hour_grid_loc + utc_offset).datetime]*u.hour\n",
    "\n",
    "        # get position of the Sun at all times during this day\n",
    "        sun = coord.get_sun(hour_grid_loc)\n",
    "        sun_altaz = sun.transform_to(coord.AltAz(location=loc))\n",
    "\n",
    "        # solar noon and midnight\n",
    "        _solar_noon.append(loc_hr[sun_altaz.alt.argmax()]) # Sun at max altitude\n",
    "        _solar_midnight.append(loc_hr[sun_altaz.alt.argmin()]) # Sun at min altitude\n",
    "\n",
    "        # civil, nautxical, astronomical twilights\n",
    "        for key in _twil.keys():\n",
    "            idx = (sun_altaz.alt >= _twil[key][0]) & (sun_altaz.alt < _twil[key][1])\n",
    "            twil_grid[i,idx] = _twil_name_map[key]\n",
    "\n",
    "        idx = (sun_altaz.alt < _twil['astronomical'][0])\n",
    "        twil_grid[i,idx] = _twil_name_map['night']\n",
    "    \n",
    "    # convert lists of Quantity objects to Quantity arrays\n",
    "    solar_noon = u.Quantity(_solar_noon)\n",
    "    solar_midnight = u.Quantity(_solar_midnight)\n",
    "    \n",
    "    # -------------------------------------------------------------------\n",
    "    # Plotting\n",
    "    #\n",
    "    if fig is None:\n",
    "        fig,ax = pl.subplots(1,1,figsize=(15,8))\n",
    "    else:\n",
    "        ax = fig.axes[0]\n",
    "    \n",
    "    # matplotlib date trickery: see http://matplotlib.org/api/dates_api.html\n",
    "    xlim = mdates.date2num([day_grid.datetime.min(), day_grid.datetime.max()]).tolist()\n",
    "    ylim = [loc_hr.value.min(), loc_hr.value.max()]\n",
    "    \n",
    "    # use imshow to visualize the stages of daylight\n",
    "    ax.imshow(twil_grid.T, origin='bottom', aspect='auto', interpolation='nearest', \n",
    "              cmap='bone_r', extent=xlim+ylim)\n",
    "\n",
    "    # don't connect discontinuities with a line, which happen when solar midnight shifts \n",
    "    # from just before 00:00 to just after.\n",
    "    idx = np.where(np.abs(np.diff(solar_midnight.to(u.hour).value)) >= 5)[0]+1\n",
    "    solar_midnight = np.insert(solar_midnight, idx, np.nan)\n",
    "    x_midnight = np.insert(mdates.date2num(day_grid.datetime), idx, np.nan)\n",
    "\n",
    "    ax.plot(day_grid.datetime, solar_noon, color='#fecc5c', marker=None, linewidth=2)\n",
    "    ax.plot(x_midnight, solar_midnight, color='#2b83ba', marker=None, linewidth=2)\n",
    "\n",
    "    # assign date locator / formatter to the x-axis to get proper labels\n",
    "    months = mdates.MonthLocator()\n",
    "    \n",
    "    if day_grid[0].datetime.year == day_grid[-1].datetime.year:\n",
    "        date_fmt = mdates.DateFormatter('%b')\n",
    "        xlabel = \"{:d}\".format(day_grid[0].datetime.year)\n",
    "    else:\n",
    "        date_fmt = mdates.DateFormatter('%b-%Y')\n",
    "        xlabel = \"\"\n",
    "        \n",
    "    ax.xaxis.set_major_locator(months)\n",
    "    ax.xaxis.set_major_formatter(date_fmt)\n",
    "    ax.yaxis.set_ticks(np.arange(0,24+2,2))\n",
    "    ax.tick_params(axis='both', colors='#cccccc')\n",
    "    [lbl.set_color(\"k\") for lbl in ax.get_xticklabels() + ax.get_yticklabels()];\n",
    "\n",
    "    ax.set_ylim(-0.1,24.1)\n",
    "    ax.set_xlabel(xlabel)\n",
    "    \n",
    "    fig.tight_layout()\n",
    "    \n",
    "    return fig"
   ]
  },
  {
   "cell_type": "markdown",
   "metadata": {},
   "source": [
    "Now let's try this out on a few locations! (By the way: it'd be awesome if there were a way in Python to go from an Earth location to a timezone directly, but as far as I can tell there isn't! Instead, we have to specify the timezone name explicitly...kind of annoying)."
   ]
  },
  {
   "cell_type": "code",
   "execution_count": null,
   "metadata": {
    "collapsed": false
   },
   "outputs": [],
   "source": [
    "address = 'Baltimore, MD'\n",
    "loc = coord.EarthLocation.of_address(address)\n",
    "tz = pytz.timezone('US/Eastern')\n",
    "fig = sun_info_plot(loc, tz)\n",
    "fig.suptitle(address, fontsize=24, y=1.02)"
   ]
  },
  {
   "cell_type": "code",
   "execution_count": null,
   "metadata": {
    "collapsed": false
   },
   "outputs": [],
   "source": [
    "address = 'Trondheim, Norway'\n",
    "loc = coord.EarthLocation.of_address(address)\n",
    "tz = pytz.timezone('Europe/Oslo')\n",
    "_ = sun_info_plot(loc, tz)\n",
    "fig.suptitle(address, fontsize=24, y=1.02)"
   ]
  },
  {
   "cell_type": "code",
   "execution_count": null,
   "metadata": {
    "collapsed": false
   },
   "outputs": [],
   "source": [
    "address = 'McMurdo, Antarctica'\n",
    "loc = coord.EarthLocation.of_address(address)\n",
    "tz = pytz.timezone('Antarctica/McMurdo')\n",
    "_ = sun_info_plot(loc, tz)\n",
    "fig.suptitle(address, fontsize=24, y=1.02)"
   ]
  }
 ],
 "metadata": {
  "kernelspec": {
   "display_name": "Environment (astropy-dev)",
   "language": "",
   "name": "astropy-dev"
  },
  "language_info": {
   "codemirror_mode": {
    "name": "ipython",
    "version": 3
   },
   "file_extension": ".py",
   "mimetype": "text/x-python",
   "name": "python",
   "nbconvert_exporter": "python",
   "pygments_lexer": "ipython3",
   "version": "3.5.1"
  }
 },
 "nbformat": 4,
 "nbformat_minor": 0
}