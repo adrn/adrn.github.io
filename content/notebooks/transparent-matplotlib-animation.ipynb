{
 "cells": [
  {
   "cell_type": "code",
   "execution_count": null,
   "metadata": {
    "collapsed": false
   },
   "outputs": [],
   "source": [
    "# Third-party\n",
    "from matplotlib import animation\n",
    "import matplotlib.pyplot as plt\n",
    "import numpy as np\n",
    "%matplotlib inline\n",
    "from JSAnimation.IPython_display import display_animation"
   ]
  },
  {
   "cell_type": "code",
   "execution_count": null,
   "metadata": {
    "collapsed": true
   },
   "outputs": [],
   "source": [
    "n_frames = 128\n",
    "n_trails = 8"
   ]
  },
  {
   "cell_type": "code",
   "execution_count": null,
   "metadata": {
    "collapsed": true
   },
   "outputs": [],
   "source": [
    "t = np.linspace(0, 10, n_frames)\n",
    "x = np.sin(t)\n",
    "y = np.cos(t)"
   ]
  },
  {
   "cell_type": "code",
   "execution_count": null,
   "metadata": {
    "collapsed": false
   },
   "outputs": [],
   "source": [
    "fig,ax = plt.subplots(1,1,figsize=(8,8))\n",
    "\n",
    "ax.set_xlim(-1.1, 1.1)\n",
    "ax.set_ylim(-1.1, 1.1)\n",
    "\n",
    "# turn off axis spines\n",
    "ax.xaxis.set_visible(False)\n",
    "ax.yaxis.set_visible(False)\n",
    "ax.set_frame_on(False)\n",
    "\n",
    "# set figure background opacity (alpha) to 0\n",
    "fig.patch.set_alpha(0.)\n",
    "\n",
    "fig.tight_layout()\n",
    "\n",
    "pt, = ax.plot([], [], linestyle='none', marker='o', ms=15, color='r')\n",
    "\n",
    "trails = []\n",
    "for i,alpha in enumerate(np.linspace(1.,0,n_trails)):\n",
    "    l, = ax.plot([], [], linestyle='none', marker='o', ms=6, alpha=alpha, c='w', zorder=-1000)\n",
    "    trails.append(l)\n",
    "\n",
    "def init():\n",
    "    pt.set_data([], [])\n",
    "    for trail in trails:\n",
    "        trail.set_data([], [])\n",
    "    return (pt,) + tuple(trails)\n",
    "\n",
    "def update(i):\n",
    "    ix = i - n_trails\n",
    "\n",
    "    pt.set_data(x[i], y[i])\n",
    "    for j,trail in zip(range(len(trails))[::-1],trails):\n",
    "        if ix+j < 0:\n",
    "            continue\n",
    "        trail.set_data(x[ix+j], y[ix+j])\n",
    "    return (pt,) + tuple(trails)\n",
    "\n",
    "ani = animation.FuncAnimation(fig, update, n_frames, init_func=init,\n",
    "                              interval=20, blit=True)\n",
    "\n",
    "display_animation(ani)"
   ]
  },
  {
   "cell_type": "code",
   "execution_count": null,
   "metadata": {
    "collapsed": true
   },
   "outputs": [],
   "source": [
    "ani.save('circle_anim.mov', codec=\"png\",\n",
    "         dpi=100, bitrate=-1, \n",
    "         savefig_kwargs={'transparent': True, 'facecolor': 'none'})"
   ]
  }
 ],
 "metadata": {
  "kernelspec": {
   "display_name": "Python 3",
   "language": "python",
   "name": "python3"
  },
  "language_info": {
   "codemirror_mode": {
    "name": "ipython",
    "version": 3
   },
   "file_extension": ".py",
   "mimetype": "text/x-python",
   "name": "python",
   "nbconvert_exporter": "python",
   "pygments_lexer": "ipython3",
   "version": "3.5.2"
  }
 },
 "nbformat": 4,
 "nbformat_minor": 0
}